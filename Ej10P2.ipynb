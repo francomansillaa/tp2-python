{
 "cells": [
  {
   "cell_type": "markdown",
   "metadata": {},
   "source": [
    "10. Un club de hockey posee las estadísticas de todxs sus jugadorxs de la última\n",
    "temporada jugada del torneo de hockey mixto.  \n",
    "Poseen una lista con los nombres, otra\n",
    "con los goles a favor, otra con los goles evitados y la última con las asistencias\n",
    "realizadas.  \n",
    "El club está por otorgar los premios de cierre de temporada"
   ]
  },
  {
   "cell_type": "code",
   "execution_count": null,
   "metadata": {},
   "outputs": [],
   "source": [
    "names = \"\"\" Agustin, Yanina, Andrés, Ariadna, Bautista, CAROLINA, CESAR, David, Diego, Dolores, DYLAN, ELIANA, Emanuel, Fabián, Noelia, Francsica', FEDERICO, Fernanda, GONZALO, Nancy\"\"\"\n",
    "goals = [0, 10, 4, 0, 5, 14, 0, 0, 7, 2, 1, 1, 1, 5, 6, 1, 1, 2, 0,\n",
    "11]\n",
    "goals_avoided = [0, 2, 0, 0, 5, 2, 0, 0, 1, 2, 0, 5, 5, 0, 1, 0, 2,\n",
    "3, 0, 0]\n",
    "assists = [0, 5, 1, 0, 5, 2, 0, 0, 1, 2, 1, 5, 5, 0, 1, 0, 2, 3, 1,\n",
    "0]"
   ]
  },
  {
   "cell_type": "markdown",
   "metadata": {},
   "source": [
    "paso los names a una lista y limpio las comas"
   ]
  },
  {
   "cell_type": "code",
   "execution_count": null,
   "metadata": {},
   "outputs": [],
   "source": [
    "list_names = names.split(\", \")\n",
    "print(f\"lista con los nombres ---> {list_names}\")"
   ]
  },
  {
   "cell_type": "markdown",
   "metadata": {},
   "source": [
    "importo el modulo ---> [estadisticas] para poder utilizar las funciones"
   ]
  },
  {
   "cell_type": "code",
   "execution_count": null,
   "metadata": {},
   "outputs": [],
   "source": [
    "import estadisticas"
   ]
  },
  {
   "cell_type": "markdown",
   "metadata": {},
   "source": [
    "Genero una estructura con todas las estadísticas asociadas a cada jugador o\n",
    "jugadora.\n"
   ]
  },
  {
   "cell_type": "code",
   "execution_count": null,
   "metadata": {},
   "outputs": [],
   "source": [
    "players = []\n",
    "players = estadisticas.asociar_estadisticas(list_names, goals, goals_avoided, assists)\n",
    "# compruebo si se estan cargando bien los datos\n",
    "print(\"-\" * 100)\n",
    "for player in players:\n",
    "    print(f\"jugador ---> {player}\")\n",
    "    print(\"-\" * 100)"
   ]
  },
  {
   "cell_type": "markdown",
   "metadata": {},
   "source": [
    "busco el nombre y la cantidad de goles del goleador o goleadora."
   ]
  },
  {
   "cell_type": "code",
   "execution_count": null,
   "metadata": {},
   "outputs": [],
   "source": [
    "name_max_goals, max_goals = estadisticas.goleador_maximo(players)\n",
    "# informo a el/la goleador/a maximo/a\n",
    "print(f\"el/la goleador/a maximo/a es '{name_max_goals}' y la cantidad de goles que hizo son: {max_goals}\")\n",
    "print(\"-\" * 100)"
   ]
  },
  {
   "cell_type": "markdown",
   "metadata": {},
   "source": [
    "busco el nombre del jugador o jugadora más influyente.  \n",
    "esto se consigue sumando goles a favor, goles evitados y cantidad de asistencias.  \n",
    "valor  \n",
    "goals == 1.5  \n",
    "goals_avoided == 1.25  \n",
    "assists == 1\n"
   ]
  },
  {
   "cell_type": "code",
   "execution_count": null,
   "metadata": {},
   "outputs": [],
   "source": [
    "influential_player = estadisticas.jugador_influyente(players)\n",
    "print(f\"el/la jugador/a mas influyente es ---> '{influential_player}'\")\n",
    "print(\"-\" * 100)"
   ]
  },
  {
   "cell_type": "markdown",
   "metadata": {},
   "source": [
    "saco el promedio de goles por partido del equipo en general.  \n",
    "info: Se jugaron 25 partidos en la temporada."
   ]
  },
  {
   "cell_type": "code",
   "execution_count": null,
   "metadata": {},
   "outputs": [],
   "source": [
    "team_average = estadisticas.promedio_goles_equipo(goals)\n",
    "print(f\"goles {sum(goals)} y la cantidad de partidos {25} y eso da en promedio ---> {team_average}\")\n",
    "print(\"-\" * 100)"
   ]
  },
  {
   "cell_type": "markdown",
   "metadata": {},
   "source": [
    "busco el promedio de goles por partido del goleador o goleadora que es el que saque en la funcion goleador_maximo. \n",
    "info: Se jugaron 25 partidos en la temporada."
   ]
  },
  {
   "cell_type": "code",
   "execution_count": null,
   "metadata": {},
   "outputs": [],
   "source": [
    "average_player = estadisticas.promedio_goles_goleador(max_goals)\n",
    "print(f\"goles {max_goals} y la cantidad de partidos {25} y eso da en promedio ---> {average_player} \")\n",
    "print(\"-\" * 100)"
   ]
  }
 ],
 "metadata": {
  "kernelspec": {
   "display_name": "venv",
   "language": "python",
   "name": "python3"
  },
  "language_info": {
   "codemirror_mode": {
    "name": "ipython",
    "version": 3
   },
   "file_extension": ".py",
   "mimetype": "text/x-python",
   "name": "python",
   "nbconvert_exporter": "python",
   "pygments_lexer": "ipython3",
   "version": "3.11.7"
  }
 },
 "nbformat": 4,
 "nbformat_minor": 2
}
